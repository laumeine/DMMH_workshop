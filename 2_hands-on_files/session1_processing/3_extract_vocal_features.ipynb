{
 "cells": [
  {
   "cell_type": "markdown",
   "id": "6e3d1cbc-7ad1-4762-a022-20effee224cb",
   "metadata": {},
   "source": [
    "# Extract Vocal Features\n",
    "\n",
    "In this script, we will extract vocal features from an audio file."
   ]
  },
  {
   "cell_type": "code",
   "execution_count": 1,
   "id": "0953f2e9-c0e3-48d3-8607-19a0ff58943e",
   "metadata": {},
   "outputs": [
    {
     "name": "stderr",
     "output_type": "stream",
     "text": [
      "2025-09-08 22:41:13.911638: I tensorflow/core/util/port.cc:113] oneDNN custom operations are on. You may see slightly different numerical results due to floating-point round-off errors from different computation orders. To turn them off, set the environment variable `TF_ENABLE_ONEDNN_OPTS=0`.\n",
      "2025-09-08 22:41:13.948018: E external/local_xla/xla/stream_executor/cuda/cuda_dnn.cc:9261] Unable to register cuDNN factory: Attempting to register factory for plugin cuDNN when one has already been registered\n",
      "2025-09-08 22:41:13.948047: E external/local_xla/xla/stream_executor/cuda/cuda_fft.cc:607] Unable to register cuFFT factory: Attempting to register factory for plugin cuFFT when one has already been registered\n",
      "2025-09-08 22:41:13.949013: E external/local_xla/xla/stream_executor/cuda/cuda_blas.cc:1515] Unable to register cuBLAS factory: Attempting to register factory for plugin cuBLAS when one has already been registered\n",
      "2025-09-08 22:41:13.955957: I tensorflow/core/platform/cpu_feature_guard.cc:182] This TensorFlow binary is optimized to use available CPU instructions in performance-critical operations.\n",
      "To enable the following instructions: AVX2 AVX512F AVX512_VNNI FMA, in other operations, rebuild TensorFlow with the appropriate compiler flags.\n",
      "2025-09-08 22:41:14.662499: W tensorflow/compiler/tf2tensorrt/utils/py_utils.cc:38] TF-TRT Warning: Could not find TensorRT\n"
     ]
    },
    {
     "name": "stdout",
     "output_type": "stream",
     "text": [
      " Vocal features extracted: output/RAVDESS/extracted_features/vocal_features.csv\n"
     ]
    }
   ],
   "source": [
    "\"\"\"\n",
    "Extract vocal features from WAV\n",
    "\"\"\"\n",
    "\n",
    "import openwillis as ow\n",
    "import os\n",
    "\n",
    "def extract_vocal_features(audio_file, output_file):\n",
    "    \"\"\"Extract vocal acoustic features from audio file\"\"\"\n",
    "    try:\n",
    "        audio_path = os.path.abspath(audio_file)\n",
    "        \n",
    "        # Check if file exists\n",
    "        if not os.path.exists(audio_path):\n",
    "            print(f\"Error: Audio file not found: {audio_path}\")\n",
    "            return\n",
    "            \n",
    "        # Use OpenWillis to extract vocal features\n",
    "        result = ow.vocal_acoustics(\n",
    "            audio_path=audio_path,\n",
    "            voiced_segments=True,    # Analyze only voiced speech segments\n",
    "            option='advanced'        # Use advanced feature extraction\n",
    "        )\n",
    "        \n",
    "        # Check if processing was successful\n",
    "        if result is None:\n",
    "            print(f\"Error: OpenWillis couldn't process {audio_file}\")\n",
    "            return\n",
    "            \n",
    "        _, summary_df = result\n",
    "        \n",
    "        # Save the summary data to CSV\n",
    "        summary_df.to_csv(output_file, index=False)\n",
    "        \n",
    "        print(f\" Vocal features extracted: {output_file}\")\n",
    "        \n",
    "    except Exception as e:\n",
    "        print(f\"Error extracting features from {audio_file}: {e}\")\n",
    "\n",
    "# Define input and output files\n",
    "audio_file = \"output/RAVDESS/audio_only/01-01-01-01-01-01-01_audio.wav\"          # Input audio file from previous step\n",
    "output_file = \"output/RAVDESS/extracted_features/vocal_features.csv\"             # Output CSV file with features\n",
    "\n",
    "# Extract vocal features\n",
    "extract_vocal_features(audio_file, output_file)"
   ]
  }
 ],
 "metadata": {
  "kernelspec": {
   "display_name": "Python [conda env:openwillis_3.1]",
   "language": "python",
   "name": "conda-env-openwillis_3.1-py"
  },
  "language_info": {
   "codemirror_mode": {
    "name": "ipython",
    "version": 3
   },
   "file_extension": ".py",
   "mimetype": "text/x-python",
   "name": "python",
   "nbconvert_exporter": "python",
   "pygments_lexer": "ipython3",
   "version": "3.10.13"
  }
 },
 "nbformat": 4,
 "nbformat_minor": 5
}
